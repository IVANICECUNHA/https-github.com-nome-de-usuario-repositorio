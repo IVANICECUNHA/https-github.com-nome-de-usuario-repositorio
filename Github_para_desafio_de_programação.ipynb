{
  "nbformat": 4,
  "nbformat_minor": 0,
  "metadata": {
    "colab": {
      "name": "Github para desafio de programação.ipynb",
      "provenance": [],
      "authorship_tag": "ABX9TyPTP+BJfqUOg+FcP+9FQ+q8",
      "include_colab_link": true
    },
    "kernelspec": {
      "name": "python3",
      "display_name": "Python 3"
    },
    "language_info": {
      "name": "python"
    }
  },
  "cells": [
    {
      "cell_type": "markdown",
      "metadata": {
        "id": "view-in-github",
        "colab_type": "text"
      },
      "source": [
        "<a href=\"https://colab.research.google.com/github/IVANICECUNHA/https-github.com-nome-de-usuario-repositorio/blob/main/Github_para_desafio_de_programa%C3%A7%C3%A3o.ipynb\" target=\"_parent\"><img src=\"https://colab.research.google.com/assets/colab-badge.svg\" alt=\"Open In Colab\"/></a>"
      ]
    },
    {
      "cell_type": "markdown",
      "source": [
        "Desafio Capgemini 1"
      ],
      "metadata": {
        "id": "Oaif3hr0up3D"
      }
    },
    {
      "cell_type": "code",
      "source": [
        "n_num = [1, 2, 3, 4, 5]\n",
        "n = len(n_num)\n",
        "n_num.sort()\n",
        "  \n",
        "if n % 2 == 0:\n",
        "    median1 = n_num[n//2]\n",
        "    median2 = n_num[n//2 - 1]\n",
        "    median = (median1 + median2)/2\n",
        "else:\n",
        "    median = n_num[n//2]\n",
        "print(\"Median is: \" + str(median))"
      ],
      "metadata": {
        "colab": {
          "base_uri": "https://localhost:8080/"
        },
        "id": "M9cdaWyFusBU",
        "outputId": "58184051-703b-4397-c490-9041db434fa6"
      },
      "execution_count": 2,
      "outputs": [
        {
          "output_type": "stream",
          "name": "stdout",
          "text": [
            "Median is: 3\n"
          ]
        }
      ]
    },
    {
      "cell_type": "markdown",
      "source": [
        "Desafio Capgemini 2\n"
      ],
      "metadata": {
        "id": "uGCsTADNzWl3"
      }
    },
    {
      "cell_type": "code",
      "source": [
        "for n in range (2, 10, 2):\n",
        "  print (n, end=' ')\n",
        "print ('Fim')\n"
      ],
      "metadata": {
        "colab": {
          "base_uri": "https://localhost:8080/"
        },
        "id": "QcloVPzdzYuV",
        "outputId": "42a9adb0-cd1c-4dfd-8619-9eff5a1b3160"
      },
      "execution_count": 5,
      "outputs": [
        {
          "output_type": "stream",
          "name": "stdout",
          "text": [
            "2 4 6 8 Fim\n"
          ]
        }
      ]
    }
  ]
}